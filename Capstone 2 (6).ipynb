{
 "cells": [
  {
   "cell_type": "code",
   "execution_count": 308,
   "metadata": {},
   "outputs": [],
   "source": [
    "import pandas as pd"
   ]
  },
  {
   "cell_type": "code",
   "execution_count": 309,
   "metadata": {},
   "outputs": [],
   "source": [
    "e='econedu.csv'\n",
    "ed=pd.read_csv(e)"
   ]
  },
  {
   "cell_type": "code",
   "execution_count": 310,
   "metadata": {},
   "outputs": [],
   "source": [
    "ed1=ed[['Year','Median Household Income','Unemployment Rate']]"
   ]
  },
  {
   "cell_type": "code",
   "execution_count": 311,
   "metadata": {},
   "outputs": [],
   "source": [
    "cpov= 'EconomyChild_Poverty.csv'\n",
    "ec=pd.read_csv(cpov)"
   ]
  },
  {
   "cell_type": "code",
   "execution_count": 312,
   "metadata": {},
   "outputs": [],
   "source": [
    "ec['Year']=pd.to_datetime(ec['Year']).dt.year"
   ]
  },
  {
   "cell_type": "code",
   "execution_count": 313,
   "metadata": {},
   "outputs": [],
   "source": [
    "ehose='EconomyHousing_Affordability.csv'\n",
    "eh=pd.read_csv(ehose)"
   ]
  },
  {
   "cell_type": "code",
   "execution_count": 314,
   "metadata": {},
   "outputs": [],
   "source": [
    "eh['Year']=pd.to_datetime(eh['Year']).dt.year"
   ]
  },
  {
   "cell_type": "code",
   "execution_count": 315,
   "metadata": {},
   "outputs": [],
   "source": [
    "grace='gender_race.csv'\n",
    "g=pd.read_csv(grace)"
   ]
  },
  {
   "cell_type": "code",
   "execution_count": 316,
   "metadata": {},
   "outputs": [],
   "source": [
    "g1=g[['School Year Ending','Gender','Race/Ethnicity','Cohort Students','Cohort Graduates','Cohort Graduation Rate']]"
   ]
  },
  {
   "cell_type": "code",
   "execution_count": 317,
   "metadata": {},
   "outputs": [
    {
     "name": "stderr",
     "output_type": "stream",
     "text": [
      "C:\\Users\\Kevin Bryson\\Anaconda3\\lib\\site-packages\\ipykernel_launcher.py:1: SettingWithCopyWarning: \n",
      "A value is trying to be set on a copy of a slice from a DataFrame.\n",
      "Try using .loc[row_indexer,col_indexer] = value instead\n",
      "\n",
      "See the caveats in the documentation: http://pandas.pydata.org/pandas-docs/stable/indexing.html#indexing-view-versus-copy\n",
      "  \"\"\"Entry point for launching an IPython kernel.\n"
     ]
    }
   ],
   "source": [
    "g1['School Year Ending']=pd.to_datetime(g1['School Year Ending']).dt.year"
   ]
  },
  {
   "cell_type": "code",
   "execution_count": 318,
   "metadata": {},
   "outputs": [],
   "source": [
    "g2=g1.rename(columns={'School Year Ending':'Year'})"
   ]
  },
  {
   "cell_type": "code",
   "execution_count": 319,
   "metadata": {},
   "outputs": [],
   "source": [
    "hi='Health_Insurance.csv'\n",
    "h=pd.read_csv(hi)"
   ]
  },
  {
   "cell_type": "code",
   "execution_count": 320,
   "metadata": {},
   "outputs": [],
   "source": [
    "h['YEAR']=pd.to_datetime(h['YEAR']).dt.year"
   ]
  },
  {
   "cell_type": "code",
   "execution_count": 321,
   "metadata": {},
   "outputs": [],
   "source": [
    "h.rename(columns={'YEAR':'Year'}, inplace='True')"
   ]
  },
  {
   "cell_type": "code",
   "execution_count": 322,
   "metadata": {},
   "outputs": [],
   "source": [
    "from functools import reduce"
   ]
  },
  {
   "cell_type": "code",
   "execution_count": 323,
   "metadata": {},
   "outputs": [],
   "source": [
    "dfs= [ed1, ec, eh, g2,h]\n",
    "matrix= reduce(lambda left, right: pd.merge(left, right, on='Year'), dfs)"
   ]
  },
  {
   "cell_type": "code",
   "execution_count": 324,
   "metadata": {},
   "outputs": [],
   "source": [
    "matrix1=matrix.rename(columns={'USA_x':'USA_poverty','CA_x':'CA_poverty','SBC_x':'SBC_poverty','USA_y':'USA_house','CA_y':'CA_house','SBC_y':'SBC_house'})"
   ]
  },
  {
   "cell_type": "code",
   "execution_count": 325,
   "metadata": {},
   "outputs": [],
   "source": [
    "m2=matrix1.rename(columns={'US':'US_ins','CA':'CA_ins','SB':'SB_ins'})"
   ]
  },
  {
   "cell_type": "code",
   "execution_count": 326,
   "metadata": {},
   "outputs": [],
   "source": [
    "m2['USA_poverty']=m2['USA_poverty'].replace('%','', regex=True).astype(float)\n",
    "m2['CA_poverty']=m2['CA_poverty'].replace('%','', regex=True).astype(float)\n",
    "m2['SBC_poverty']=m2['SBC_poverty'].replace('%','', regex=True).astype(float)\n",
    "m2['USA_house']=m2['USA_house'].replace('%','', regex=True).astype(float)\n",
    "m2['CA_house']=m2['CA_house'].replace('%','', regex=True).astype(float)\n",
    "m2['SBC_house']=m2['SBC_house'].replace('%','', regex=True).astype(float)\n",
    "m2['US_ins']=m2['US_ins'].replace('%','', regex=True).astype(float)\n",
    "m2['CA_ins']=m2['CA_ins'].replace('%','', regex=True).astype(float)\n",
    "m2['SB_ins']=m2['SB_ins'].replace('%','', regex=True).astype(float)"
   ]
  },
  {
   "cell_type": "code",
   "execution_count": 327,
   "metadata": {},
   "outputs": [],
   "source": [
    "m2.rename(columns={'Gender_x':'Male', 'Race/Ethnicity_x':'Ethnicity Male','Ethnic Grad Rate_x':'Ethnic Grad Rate Male','Gender_y':'Female','Race/Ethnicity_y':'Ethnicity Female','Ethnic Grad Rate_y':'Ethnic Grad Rate Female'}, inplace=True)"
   ]
  },
  {
   "cell_type": "code",
   "execution_count": 328,
   "metadata": {},
   "outputs": [],
   "source": [
    "m3=m2[['Year','Median Household Income','Unemployment Rate','SBC_poverty','SBC_house','Gender','Race/Ethnicity','Cohort Graduation Rate','SB_ins']]"
   ]
  },
  {
   "cell_type": "code",
   "execution_count": 329,
   "metadata": {},
   "outputs": [],
   "source": [
    "dummy=pd.get_dummies(m3[['Gender','Race/Ethnicity']])\n",
    "m4=pd.concat([m3, dummy], axis=1)"
   ]
  },
  {
   "cell_type": "code",
   "execution_count": 330,
   "metadata": {},
   "outputs": [],
   "source": [
    "from sklearn.preprocessing import LabelEncoder"
   ]
  },
  {
   "cell_type": "code",
   "execution_count": 331,
   "metadata": {},
   "outputs": [],
   "source": [
    "le=LabelEncoder()\n",
    "m4['Gender']=le.fit_transform(m4['Gender'])\n"
   ]
  },
  {
   "cell_type": "code",
   "execution_count": 332,
   "metadata": {},
   "outputs": [],
   "source": [
    "m4.rename(columns={'Race/Ethnicity_African American, Not Hispanic':'African American','Race/Ethnicity_All Students':'All Students','Race/Ethnicity_American Indian or Alaska Native, Not Hispanic':'American Indian or Alaska Native','Race/Ethnicity_Asian, Not Hispanic':'Asian','Race/Ethnicity_Filipino, Not Hispanic':'Filipino','Race/Ethnicity_Hispanic or Latino of Any Race':'Hispanic or Latino','Race/Ethnicity_Not Reported':'Not Reported','Race/Ethnicity_Pacific Islander, Not Hispanic':'Pacific Islander','Race/Ethnicity_Two or More Races, Not Hispanic':'Two or More Races','Race/Ethnicity_White, Not Hispanic':'White'}, inplace=True)"
   ]
  },
  {
   "cell_type": "code",
   "execution_count": 333,
   "metadata": {},
   "outputs": [
    {
     "name": "stdout",
     "output_type": "stream",
     "text": [
      "<class 'pandas.core.frame.DataFrame'>\n",
      "Int64Index: 210 entries, 0 to 209\n",
      "Data columns (total 21 columns):\n",
      "Year                                210 non-null int64\n",
      "Median Household Income             210 non-null int64\n",
      "Unemployment Rate                   210 non-null float64\n",
      "SBC_poverty                         210 non-null float64\n",
      "SBC_house                           210 non-null float64\n",
      "Gender                              210 non-null int64\n",
      "Cohort Graduation Rate              210 non-null float64\n",
      "SB_ins                              210 non-null float64\n",
      "Gender_All Students                 210 non-null uint8\n",
      "Gender_Female                       210 non-null uint8\n",
      "Gender_Male                         210 non-null uint8\n",
      "African American                    210 non-null uint8\n",
      "All Students                        210 non-null uint8\n",
      "American Indian or Alaska Native    210 non-null uint8\n",
      "Asian                               210 non-null uint8\n",
      "Filipino                            210 non-null uint8\n",
      "Hispanic or Latino                  210 non-null uint8\n",
      "Not Reported                        210 non-null uint8\n",
      "Pacific Islander                    210 non-null uint8\n",
      "Two or More Races                   210 non-null uint8\n",
      "White                               210 non-null uint8\n",
      "dtypes: float64(5), int64(3), uint8(13)\n",
      "memory usage: 17.4 KB\n"
     ]
    }
   ],
   "source": [
    "m5=m4.drop(['Race/Ethnicity'], axis=1)\n",
    "m5.info()"
   ]
  },
  {
   "cell_type": "code",
   "execution_count": 334,
   "metadata": {},
   "outputs": [],
   "source": [
    "import numpy as np\n",
    "from sklearn.preprocessing import StandardScaler\n",
    "from sklearn.pipeline import Pipeline\n",
    "from sklearn.model_selection import GridSearchCV\n",
    "from sklearn.model_selection import train_test_split\n",
    "from sklearn import metrics\n",
    "from sklearn.metrics import accuracy_score\n",
    "from sklearn.externals import joblib"
   ]
  },
  {
   "cell_type": "code",
   "execution_count": 335,
   "metadata": {},
   "outputs": [
    {
     "data": {
      "text/plain": [
       "Index(['Cohort Graduation Rate', 'Filipino', 'Asian', 'Gender_Female', 'Year',\n",
       "       'SB_ins', 'SBC_poverty', 'White', 'Two or More Races',\n",
       "       'Median Household Income'],\n",
       "      dtype='object')"
      ]
     },
     "execution_count": 335,
     "metadata": {},
     "output_type": "execute_result"
    }
   ],
   "source": [
    "from sklearn import preprocessing\n",
    "from sklearn.model_selection import cross_val_score\n",
    "from sklearn.model_selection import KFold\n",
    "\n",
    "correlation= m5.corr(method='spearman')\n",
    "columns=correlation.nlargest(10, 'Cohort Graduation Rate').index\n",
    "columns\n",
    "     "
   ]
  },
  {
   "cell_type": "code",
   "execution_count": 336,
   "metadata": {},
   "outputs": [],
   "source": [
    "from sklearn.linear_model import LinearRegression\n",
    "from sklearn.linear_model import Lasso\n",
    "from sklearn.metrics import confusion_matrix"
   ]
  },
  {
   "cell_type": "code",
   "execution_count": 337,
   "metadata": {},
   "outputs": [
    {
     "name": "stdout",
     "output_type": "stream",
     "text": [
      "Best: 0.893124 using {'method': LinearRegression(copy_X=True, fit_intercept=True, n_jobs=1, normalize=False), 'method__fit_intercept': True}\n",
      "Best: 0.893124 using {'method': LinearRegression(copy_X=True, fit_intercept=True, n_jobs=1, normalize=False), 'method__fit_intercept': True}\n"
     ]
    }
   ],
   "source": [
    "X=m5[columns]\n",
    "X=m5.drop('Cohort Graduation Rate', axis=1)\n",
    "y=m5['Cohort Graduation Rate']\n",
    "\n",
    "\n",
    "X_train, X_test, y_train, y_test=train_test_split(X, y.values, test_size=0.20, random_state=42)\n",
    "\n",
    "pipe_lr= Pipeline([('Scaler', StandardScaler()),('method', LinearRegression())])\n",
    "pipe_ls= Pipeline([('Scaler', StandardScaler()),('method', Lasso())])\n",
    "\n",
    "parameters= [\n",
    "    {\n",
    "        'method':[LinearRegression()],\n",
    "            'method__fit_intercept':[True,False]\n",
    "    },\n",
    "    {\n",
    "        'method':[Lasso()],\n",
    "             'method__alpha':[0.05,0.1,0.5,1.0,1.5]\n",
    "    },\n",
    "]\n",
    "\n",
    "\n",
    "pipe_lr.fit(X_train, y_train)\n",
    "pipe_ls.fit(X_train, y_train)\n",
    "\n",
    "lr_pred = pipe_lr.predict(X_test)\n",
    "ls_pred = pipe_ls.predict(X_test)\n",
    "\n",
    "\n",
    "\n",
    "gridlr= GridSearchCV(pipe_lr, param_grid=parameters, cv=3, scoring='r2')\n",
    "\n",
    "gridlr.fit(X_train, y_train)\n",
    "\n",
    "print('Best: %f using %s' %(gridlr.best_score_, gridlr.best_params_))\n",
    "\n",
    "gridls= GridSearchCV(pipe_ls, param_grid= parameters, cv=3, scoring ='r2')\n",
    "\n",
    "gridls.fit(X_train, y_train)\n",
    "\n",
    "print('Best: %f using %s' %(gridls.best_score_, gridls.best_params_))"
   ]
  },
  {
   "cell_type": "code",
   "execution_count": 338,
   "metadata": {},
   "outputs": [],
   "source": [
    "from sklearn.model_selection import learning_curve"
   ]
  },
  {
   "cell_type": "code",
   "execution_count": 339,
   "metadata": {},
   "outputs": [
    {
     "data": {
      "text/plain": [
       "array([ 20,  30,  40,  50, 100])"
      ]
     },
     "execution_count": 339,
     "metadata": {},
     "output_type": "execute_result"
    }
   ],
   "source": [
    "train_sizes, train_scores, valid_scores= learning_curve(LinearRegression(fit_intercept=True), X, y, train_sizes=[20,30,40,50,100], cv=3)\n",
    "train_sizes"
   ]
  },
  {
   "cell_type": "code",
   "execution_count": 340,
   "metadata": {},
   "outputs": [
    {
     "data": {
      "text/plain": [
       "array([[0.95957324, 0.97314612, 0.97314612],\n",
       "       [0.96060955, 0.97136164, 0.97136164],\n",
       "       [0.9233269 , 0.97310094, 0.97310094],\n",
       "       [0.9290736 , 0.96279483, 0.96279483],\n",
       "       [0.8938392 , 0.93477648, 0.95453767]])"
      ]
     },
     "execution_count": 340,
     "metadata": {},
     "output_type": "execute_result"
    }
   ],
   "source": [
    "train_scores"
   ]
  },
  {
   "cell_type": "code",
   "execution_count": 341,
   "metadata": {},
   "outputs": [
    {
     "data": {
      "text/plain": [
       "array([[ 8.25455427e-01, -1.20748428e+22, -1.20255705e+22],\n",
       "       [ 8.35648280e-01,  3.92385058e-01,  2.82741310e-01],\n",
       "       [ 8.44855487e-01,  4.13779732e-01,  2.96460606e-01],\n",
       "       [ 8.56909366e-01,  7.86134251e-01,  4.06452081e-01],\n",
       "       [ 8.94871526e-01,  7.80872306e-01, -2.18374119e+00]])"
      ]
     },
     "execution_count": 341,
     "metadata": {},
     "output_type": "execute_result"
    }
   ],
   "source": [
    "valid_scores"
   ]
  },
  {
   "cell_type": "code",
   "execution_count": 342,
   "metadata": {},
   "outputs": [],
   "source": [
    "import seaborn as sns\n",
    "from scipy.stats import spearmanr\n",
    "from scipy import stats\n",
    "import matplotlib.pyplot as plt"
   ]
  },
  {
   "cell_type": "code",
   "execution_count": 343,
   "metadata": {},
   "outputs": [
    {
     "data": {
      "text/plain": [
       "SpearmanrResult(correlation=-0.36051922726257835, pvalue=7.65442864637294e-08)"
      ]
     },
     "execution_count": 343,
     "metadata": {},
     "output_type": "execute_result"
    }
   ],
   "source": [
    "stats.spearmanr(m5['Cohort Graduation Rate'], m5['Gender_Male'])"
   ]
  },
  {
   "cell_type": "code",
   "execution_count": 344,
   "metadata": {},
   "outputs": [
    {
     "data": {
      "text/plain": [
       "SpearmanrResult(correlation=0.24374880047615838, pvalue=0.0003637232844371276)"
      ]
     },
     "execution_count": 344,
     "metadata": {},
     "output_type": "execute_result"
    }
   ],
   "source": [
    "stats.spearmanr(m5['Cohort Graduation Rate'], m5['SB_ins'])"
   ]
  },
  {
   "cell_type": "code",
   "execution_count": 345,
   "metadata": {},
   "outputs": [
    {
     "data": {
      "text/plain": [
       "SpearmanrResult(correlation=0.37970916867882387, pvalue=1.3159564892228586e-08)"
      ]
     },
     "execution_count": 345,
     "metadata": {},
     "output_type": "execute_result"
    }
   ],
   "source": [
    "stats.spearmanr(m5['Cohort Graduation Rate'], m5['Gender_Female'])"
   ]
  },
  {
   "cell_type": "code",
   "execution_count": 346,
   "metadata": {},
   "outputs": [
    {
     "data": {
      "text/plain": [
       "SpearmanrResult(correlation=0.22430666734793245, pvalue=0.001064438918796859)"
      ]
     },
     "execution_count": 346,
     "metadata": {},
     "output_type": "execute_result"
    }
   ],
   "source": [
    "stats.spearmanr(m5['Cohort Graduation Rate'], m5['SBC_poverty'])"
   ]
  },
  {
   "cell_type": "code",
   "execution_count": 347,
   "metadata": {},
   "outputs": [
    {
     "data": {
      "image/png": "[encoded data removed]",
      "text/plain": [
       "<Figure size 432x288 with 1 Axes>"
      ]
     },
     "metadata": {},
     "output_type": "display_data"
    }
   ],
   "source": [
    "sns.set(style='ticks')\n",
    "sns.boxplot(y='Cohort Graduation Rate', x='SB_ins',data=m5)\n",
    "sns.swarmplot(y='Cohort Graduation Rate', x='SB_ins', data=m5, size=5, color='.3', linewidth=0)\n",
    "plt.title('Number of Insured Compared to Graduation Rates')\n",
    "plt.show()"
   ]
  },
  {
   "cell_type": "code",
   "execution_count": 348,
   "metadata": {},
   "outputs": [
    {
     "data": {
      "image/png": "[encoded data removed]",
      "text/plain": [
       "<Figure size 432x288 with 1 Axes>"
      ]
     },
     "metadata": {},
     "output_type": "display_data"
    }
   ],
   "source": [
    "sns.set(style='ticks')\n",
    "\n",
    "sns.boxplot(x='Gender_Female', y='Cohort Graduation Rate', data=m5)\n",
    "\n",
    "sns.swarmplot(x='Gender_Female', y='Cohort Graduation Rate', data=m5, size=5, color='.3', linewidth=0)\n",
    "\n",
    "plt.title('Gender and Graduation Rates')\n",
    "\n",
    "plt.show()"
   ]
  },
  {
   "cell_type": "code",
   "execution_count": 349,
   "metadata": {},
   "outputs": [
    {
     "data": {
      "image/png": "[encoded data removed]",
      "text/plain": [
       "<Figure size 432x288 with 1 Axes>"
      ]
     },
     "metadata": {},
     "output_type": "display_data"
    }
   ],
   "source": [
    "sns.set(style='ticks')\n",
    "\n",
    "sns.boxplot(x='SBC_poverty', y='Cohort Graduation Rate', data=m5)\n",
    "\n",
    "sns.swarmplot(x='SBC_poverty', y='Cohort Graduation Rate', data=m5, size=5, color='.3', linewidth=0)\n",
    "\n",
    "plt.title('Poverty Rate vs. Graduation Rate')\n",
    "\n",
    "plt.show()\n"
   ]
  }
 ],
 "metadata": {
  "kernelspec": {
   "display_name": "Python 3",
   "language": "python",
   "name": "python3"
  },
  "language_info": {
   "codemirror_mode": {
    "name": "ipython",
    "version": 3
   },
   "file_extension": ".py",
   "mimetype": "text/x-python",
   "name": "python",
   "nbconvert_exporter": "python",
   "pygments_lexer": "ipython3",
   "version": "3.6.5"
  }
 },
 "nbformat": 4,
 "nbformat_minor": 2
}
